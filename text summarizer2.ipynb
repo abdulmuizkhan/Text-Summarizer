{
 "metadata": {
  "language_info": {
   "codemirror_mode": {
    "name": "ipython",
    "version": 3
   },
   "file_extension": ".py",
   "mimetype": "text/x-python",
   "name": "python",
   "nbconvert_exporter": "python",
   "pygments_lexer": "ipython3",
   "version": "3.8.3"
  },
  "orig_nbformat": 4,
  "kernelspec": {
   "name": "python3",
   "display_name": "Python 3.8.3 32-bit"
  },
  "interpreter": {
   "hash": "9b57928f482539b5af9e15bccb9be7ac321b1f0305c9741db6d98e0a74691227"
  }
 },
 "nbformat": 4,
 "nbformat_minor": 2,
 "cells": [
  {
   "cell_type": "code",
   "execution_count": 36,
   "metadata": {},
   "outputs": [
    {
     "output_type": "stream",
     "name": "stdout",
     "text": [
      "Using matplotlib backend: TkAgg\n"
     ]
    }
   ],
   "source": [
    "\n",
    "import re\n",
    "import string\n",
    "import numpy as np\n",
    "import matplotlib.pyplot as plt\n",
    "from nltk import pos_tag\n",
    "from nltk.tokenize import sent_tokenize, word_tokenize\n",
    "from nltk.stem.wordnet import WordNetLemmatizer\n",
    "from nltk.corpus.reader.wordnet import NOUN, VERB, ADJ, ADV\n",
    "from nltk.corpus import brown, stopwords\n",
    "from nltk.cluster.util import cosine_distance\n",
    "from operator import itemgetter\n",
    "%matplotlib"
   ]
  },
  {
   "cell_type": "code",
   "execution_count": 37,
   "metadata": {},
   "outputs": [
    {
     "output_type": "execute_result",
     "data": {
      "text/plain": [
       "{'divide': 'ignore', 'over': 'warn', 'under': 'ignore', 'invalid': 'ignore'}"
      ]
     },
     "metadata": {},
     "execution_count": 37
    }
   ],
   "source": [
    "np.seterr(divide='ignore', invalid='ignore')"
   ]
  },
  {
   "cell_type": "code",
   "execution_count": 38,
   "metadata": {},
   "outputs": [],
   "source": [
    "sentences = brown.sents('ca05')"
   ]
  },
  {
   "cell_type": "code",
   "execution_count": 39,
   "metadata": {},
   "outputs": [],
   "source": [
    "sentlist=[' '.join(sent) for sent in sentences]"
   ]
  },
  {
   "cell_type": "code",
   "execution_count": 40,
   "metadata": {},
   "outputs": [
    {
     "output_type": "stream",
     "name": "stdout",
     "text": [
      "East Providence should organize its civil defense setup and begin by appointing a full-time director , Raymond H. Hawksley , the present city CD head , believes .Mr. Hawksley said yesterday he would be willing to go before the city council `` or anyone else locally '' to outline his proposal at the earliest possible time .East Providence now has no civil defense program .Mr. Hawksley , the state's general treasurer , has been a part-time CD director in the city for the last nine years .He is not interested in being named a full-time director .Noting that President Kennedy has handed the Defense Department the major responsibility for the nation's civil defense program , Mr. Hawksley said the federal government would pay half the salary of a full-time local director .He expressed the opinion the city could hire a CD director for about $3,500 a year and would only have to put up half that amount on a matching fund basis to defray the salary costs .Mr. Hawksley said he believed there are a number of qualified city residents who would be willing to take the full-time CD job .One of these men is former Fire Chief John A. Laughlin , he said .Along with a director , the city should provide a CD headquarters so that pertinent information about the local organization would be centralized .Mr. Hawksley said .One advantage that would come to the city in having a full-time director , he said , is that East Providence would become eligible to apply to the federal government for financial aid in purchasing equipment needed for a sound civil defense program .Matching funds also can be obtained for procurement of such items as radios , sirens and rescue trucks , he said .Mr. Hawksley believes that East Providence could use two more rescue trucks , similar to the CD vehicle obtained several years ago and now detailed to the Central Fire Station .He would assign one of the rescue trucks to the Riverside section of the city and the other to the Rumford area .Speaking of the present status of civil defense in the city , Mr. Hawksley said he would be willing to bet that not more than one person in a hundred would know what to do or where to go in the event of an enemy attack .The Narragansett Race Track grounds is one assembly point , he said , and a drive-in theater in Seekonk would be another .Riverside residents would go to the Seekonk assembly point .Mr. Hawksley said he was not critical of city residents for not knowing what to do or where to assemble in case of an air attack .Such vital information , he said , has to be made available to the public frequently and at regular intervals for residents to know .If the city council fails to consider appointment of a full-time CD director , Mr. Hawksley said , then he plans to call a meeting early in September so that a civil defense organization will be developed locally .One of the first things he would do , he said , would be to organize classes in first aid .Other steps would be developed after information drifts down to the local level from the federal government .Rhode Island is going to examine its Sunday sales law with possible revisions in mind .Governor Notte said last night he plans to name a committee to make the study and come up with recommendations for possible changes in time for the next session of the General Assembly .The governor's move into the so-called `` blue law '' controversy came in the form of a letter to Miss Mary R. Grant , deputy city clerk of Central Falls .A copy was released to the press .Mr. Notte was responding to a resolution adopted by the Central Falls City Council on July 10 and sent to the state house by Miss Grant .The resolution urges the governor to have a complete study of the Sunday sales laws made with an eye to their revision at the next session of the legislature .While the city council suggested that the Legislative Council might perform the review , Mr. Notte said that instead he will take up the matter with Atty. Gen. J. Joseph Nugent to get `` the benefit of his views '' .He will then appoint the study committee with Mr. Nugent's cooperation , the governor said .`` I would expect the proposed committee to hold public hearings '' , Mr. Notte said , `` to obtain the views of the general public and religious , labor and special-interest groups affected by these laws '' .The governor wrote Miss Grant that he has been concerned for some time `` with the continuous problem which confronts our local and state law enforcement officers as a result of the laws regulating Sunday sales '' .The attorney general has advised local police that it is their duty to enforce the blue laws .Should there be evidence they are shirking , he has said , the state police will step into the situation .There has been more activity across the state line in Massachusetts than in Rhode Island in recent weeks toward enforcement of the Sunday sales laws .The statutes , similar in both the Bay State and Rhode Island and dating back in some instances to colonial times , severely limit the types of merchandise that may be sold on the Sabbath .The Central Falls City Council expressed concern especially that more foods be placed on the eligible list and that neighborhood grocery and variety stores be allowed to do business on Sunday .The only day they `` have a chance to compete with large supermarkets is on Sunday '' , the council's resolution said .The small shops `` must be retained , for they provide essential service to the community '' , according to the resolution , which added that they `` also are the source of livelihood for thousands of our neighbors '' .It declares that Sunday sales licenses provide `` great revenue '' to the local government .The council advised the governor that `` large supermarkets , factory outlets and department stores not be allowed to do business '' on Sunday .They `` operate on a volume basis '' , it was contended , `` and are not essential to provide the more limited but vital shopping needs of the community '' .Liberals and conservatives in both parties -- Democratic and Republican -- should divorce themselves and form two independent parties , George H. Reama , nationally known labor-management expert , said here yesterday .Mr. Reama told the Rotary Club of Providence at its luncheon at the Sheraton-Biltmore Hotel that about half of the people in the country want the `` welfare '' type of government and the other half want a free enterprise system .He suggested that a regrouping of forces might allow the average voter a better pull at the right lever for him on election day .He said he was `` confessing that I was a member of the Socialist Party in 1910 '' .That , he added , was when he was `` a very young man , a machinist and toolmaker by trade .`` That was before I studied law .Some of my fellow workers were grooming me for an office in the Socialist Party .The lawyer with whom I studied law steered me off the Socialist track .He steered me to the right track -- the free enterprise track '' .He said that when he was a Socialist in 1910 , the party called for government operation of all utilities and the pooling of all resources .He suggested that without the Socialist Party ever gaining a national victory , most of its original program has come to pass under both major parties .Mr. Reama , who retired as vice president of the American Screw Co. in 1955 said , `` Both parties in the last election told us that we need a five per cent growth in the gross national product -- but neither told us how to achieve it '' .He said he favors wage increases for workers -- `` but manufacturers are caught in a profit squeeze '' -- and raises should only come when the public is conditioned to higher prices , he added .Indicating the way in which he has turned his back on his 1910 philosophy , Mr. Reama said : `` A Socialist is a person who believes in dividing everything he does not own '' .Mr. Reama , far from really being retired , is engaged in industrial relations counseling .A petition bearing the signatures of more than 1,700 Johnston taxpayers was presented to the town council last night as what is hoped will be the first step in obtaining a home rule charter for the town .William A. Martinelli , chairman of the Citizens Group of Johnston , transferred the petitions from his left hand to his right hand after the council voted to accept them at the suggestion of Council President Raymond Fortin Sr. .The law which governs home rule charter petitions states that they must be referred to the chairman of the board of canvassers for verification of the signatures within 10 days and Mr. Martinelli happens to hold that post .Mr. Martinelli explained that there should be more than enough signatures to assure the scheduling of a vote on the home rule charter and possible election of a nine member charter commission within 70 days .He explained that by law the council must establish procedures for a vote on the issue within 60 days after the board of canvassers completes its work .A difference of opinion arose between Mr. Martinelli and John P. Bourcier , town solicitor , over the exact manner in which the vote is handled .Mr. Martinelli has , in recent weeks , been of the opinion that a special town meeting would be called for the vote , while Mr. Bourcier said that a special election might be called instead .Mr. Bourcier said that he had consulted several Superior Court justices in the last week and received opinions favoring both procedures .He assured Mr. Martinelli and the council that he would study the correct method and report back to the council as soon as possible .Mr. Martinelli said yesterday that the Citizens Group of Johnston will meet again July 24 to plan further strategy in the charter movement .He said that the group has no candidates for the charter commission in mind at present , but that it will undoubtedly endorse candidates when the time comes .`` After inspiring this , I think we should certainly follow through on it '' , he declared .`` It has become our responsibility and I hope that the Citizens Group will spearhead the movement '' .He said he would not be surprised if some of the more than 30 members of the group are interested in running on the required non-partisan ballot for posts on the charter commission .`` Our most immediate goal is to increase public awareness of the movement '' , he indicated , `` and to tell them what this will mean for the town '' .He expects that if the present timetable is followed a vote will be scheduled during the last week in September .Some opposition to the home rule movement started to be heard yesterday , with spokesmen for the town's insurgent Democratic leadership speaking out against the home rule charter in favor of the model municipal league charter .Increasing opposition can be expected in coming weeks , it was indicated .Misunderstanding of the real meaning of a home rule charter was cited as a factor which has caused the Citizens Group to obtain signatures under what were termed `` false pretenses '' .Several signers affixed their names , it was learned , after being told that no tax increase would be possible without consent of the General Assembly and that a provision could be included in the charter to have the town take over the Johnston Sanitary District sewer system .Action on a new ordinance permitting motorists who plead guilty to minor traffic offenses to pay fines at the local police station may be taken at Monday's special North Providence Town Council meeting .Council president Frank SanAntonio said yesterday he may ask the council to formally request Town Solicitor Michael A. Abatuno to draft the ordinance .At the last session of the General Assembly , the town was authorized to adopt such an ordinance as a means of making enforcement of minor offenses more effective .Nothing has been done yet to take advantage of the enabling legislation .At present all offenses must be taken to Sixth District Court for disposition .Local police have hesitated to prosecute them because of the heavy court costs involved even for the simplest offense .\n"
     ]
    }
   ],
   "source": [
    "wholesent=\"\"\n",
    "for i in sentlist:\n",
    "    wholesent+=i;\n",
    "print(wholesent)"
   ]
  },
  {
   "cell_type": "code",
   "execution_count": 41,
   "metadata": {},
   "outputs": [],
   "source": [
    "stop_words = set(stopwords.words(\"english\"))\n",
    "punctuations = set(string.punctuation)\n",
    "pos_tags = {\n",
    "            NOUN: ['NN', 'NNS', 'NNP', 'NNPS', 'PRP', 'PRP$', 'WP', 'WP$'],\n",
    "            VERB: ['VB', 'VBD', 'VBG', 'VBN', 'VBP', 'VBZ'],\n",
    "            ADJ: ['JJ', 'JJR', 'JJS'],\n",
    "            ADV: ['RB', 'RBR', 'RBS', 'WRB']\n",
    "}"
   ]
  },
  {
   "cell_type": "code",
   "execution_count": 42,
   "metadata": {},
   "outputs": [],
   "source": [
    "def remove_stop_words(words):\n",
    "        return [w for w in words if w not in stop_words]"
   ]
  },
  {
   "cell_type": "code",
   "execution_count": 43,
   "metadata": {},
   "outputs": [],
   "source": [
    "def remove_regex(sent):\n",
    "        sent = \" \".join([w.lower() for w in sent])\n",
    "        sent = re.sub(r\"i'm\", \"i am\", sent)\n",
    "        sent = re.sub(r\"he's\", \"he is\", sent)\n",
    "        sent = re.sub(r\"can't\", \"cannot\", sent)\n",
    "        sent = re.sub(r\"don't\", \"do not\", sent)\n",
    "        sent = re.sub(r\"that's\", \"that is\", sent)\n",
    "        sent = re.sub(r\"\\'ve\", \" have\", sent)\n",
    "        sent = re.sub(r\"\\'ll\", \" will\", sent)\n",
    "        sent = re.sub(r\"what's\", \"what is\", sent)\n",
    "        sent = re.sub(r\"where's\", \"where is\", sent)\n",
    "        sent = re.sub(r\"\\'re\", \" are\", sent)\n",
    "        sent = re.sub(r\"\\'d\", \" would\", sent)\n",
    "        sent = re.sub(r\"she's\", \"she is\", sent)\n",
    "        sent = re.sub(r\"won't\", \"will not\", sent)\n",
    "        patterns = re.finditer(\"#[\\w]*\", sent)\n",
    "        for pattern in patterns:\n",
    "            sent = re.sub(pattern.group().strip(), \"\", sent)\n",
    "        sent = \"\".join(ch for ch in sent if ch not in punctuations)\n",
    "        return sent"
   ]
  },
  {
   "cell_type": "code",
   "execution_count": 44,
   "metadata": {},
   "outputs": [],
   "source": [
    "def posTagging(words):\n",
    "        tagged_words = pos_tag(words)\n",
    "        pos_words = []\n",
    "        for word in tagged_words:\n",
    "            flag = False\n",
    "            for key, value in pos_tags.items():\n",
    "                if word[1] in value:\n",
    "                    pos_words.append((word[0], key))\n",
    "                    flag = True\n",
    "                    break\n",
    "            if not flag:\n",
    "                pos_words.append((word[0], NOUN))\n",
    "        return pos_words"
   ]
  },
  {
   "cell_type": "code",
   "execution_count": 45,
   "metadata": {},
   "outputs": [],
   "source": [
    "def preprocessData(sentence):\n",
    "    sentence= remove_regex(sentence)\n",
    "    words = word_tokenize(sentence)\n",
    "    cleanedWords = remove_stop_words(words)\n",
    "    lem = WordNetLemmatizer()\n",
    "    pos_words = posTagging(words)\n",
    "    cleanedWords = [lem.lemmatize(w, pos=p) for w, p in pos_words]\n",
    "    return cleanedWords"
   ]
  },
  {
   "cell_type": "code",
   "execution_count": 46,
   "metadata": {},
   "outputs": [],
   "source": [
    "def findSentenceSimilarity(s1, s2):\n",
    "    s1 = preprocessData(s1)\n",
    "    s2 = preprocessData(s2)\n",
    "    allWords = list(set(s1 + s2))\n",
    "    vectorForS1 = [0] * len(allWords)\n",
    "    vectorForS2 = [0] * len(allWords)\n",
    "    for word in s1:\n",
    "        vectorForS1[allWords.index(word)] += 1\n",
    "    for word in s2:\n",
    "        vectorForS2[allWords.index(word)] += 1\n",
    "    return 1 - cosine_distance(vectorForS1, vectorForS2)"
   ]
  },
  {
   "cell_type": "code",
   "execution_count": 47,
   "metadata": {},
   "outputs": [],
   "source": [
    "def createSimilarityMatrix(sentences):\n",
    "    matrix = np.zeros((len(sentences), len(sentences)))\n",
    "    for i in range(len(sentences)):\n",
    "        for j in range(len(sentences)):\n",
    "            if i == j:\n",
    "                continue\n",
    "            else:\n",
    "                matrix[i][j] = findSentenceSimilarity(sentences[i], sentences[j])\n",
    "    for i in range(len(matrix)):\n",
    "        matrix[i] /= matrix[i].sum()\n",
    "    return matrix"
   ]
  },
  {
   "cell_type": "code",
   "execution_count": 25,
   "metadata": {},
   "outputs": [],
   "source": [
    "SimilarityMatrix = createSimilarityMatrix(sentences)"
   ]
  },
  {
   "cell_type": "code",
   "execution_count": 26,
   "metadata": {},
   "outputs": [],
   "source": [
    "def pagerank(matrix, eps=1.0e-8, d=0.85):\n",
    "    N = matrix.shape[1]\n",
    "    v = np.random.rand(N, 1)\n",
    "    v = v / np.linalg.norm(v, 1)\n",
    "    last_v = np.ones((N, 1), dtype=np.float32) * np.inf\n",
    "    M_hat = (d * matrix) + (((1 - d) / N) * np.ones((N, N), dtype=np.float32))\n",
    "    \n",
    "    while np.linalg.norm(v - last_v, 2) > eps:\n",
    "        last_v = v\n",
    "        v = np.matmul(M_hat, v)\n",
    "    return v"
   ]
  },
  {
   "cell_type": "code",
   "execution_count": 27,
   "metadata": {},
   "outputs": [],
   "source": [
    "\n",
    "ranks = pagerank(SimilarityMatrix)"
   ]
  },
  {
   "cell_type": "code",
   "execution_count": 28,
   "metadata": {},
   "outputs": [
    {
     "output_type": "execute_result",
     "data": {
      "text/plain": [
       "array([[0.00104778],\n",
       "       [0.00138417],\n",
       "       [0.01249441],\n",
       "       [0.01941747],\n",
       "       [0.01068676],\n",
       "       [0.00717181],\n",
       "       [0.01299622],\n",
       "       [0.00398737],\n",
       "       [0.00558846],\n",
       "       [0.01996421],\n",
       "       [0.00797427],\n",
       "       [0.01896819],\n",
       "       [0.0204762 ],\n",
       "       [0.00194573],\n",
       "       [0.01280512],\n",
       "       [0.0212577 ],\n",
       "       [0.00357478],\n",
       "       [0.00241932],\n",
       "       [0.01183738],\n",
       "       [0.0087274 ],\n",
       "       [0.00871349],\n",
       "       [0.01223938],\n",
       "       [0.01393707],\n",
       "       [0.0219473 ],\n",
       "       [0.01653646],\n",
       "       [0.01341724],\n",
       "       [0.02002164],\n",
       "       [0.0117618 ],\n",
       "       [0.00429421],\n",
       "       [0.01029215],\n",
       "       [0.00302789],\n",
       "       [0.02137912],\n",
       "       [0.01520069],\n",
       "       [0.00596772],\n",
       "       [0.01659362],\n",
       "       [0.00798436],\n",
       "       [0.00458146],\n",
       "       [0.01995804],\n",
       "       [0.00922298],\n",
       "       [0.02073735],\n",
       "       [0.01416501],\n",
       "       [0.01224123],\n",
       "       [0.00881516],\n",
       "       [0.0082539 ],\n",
       "       [0.01020895],\n",
       "       [0.01401801],\n",
       "       [0.01713903],\n",
       "       [0.00038949],\n",
       "       [0.02225391],\n",
       "       [0.00343223],\n",
       "       [0.0174688 ],\n",
       "       [0.00230191],\n",
       "       [0.00281934],\n",
       "       [0.01502296],\n",
       "       [0.00402081],\n",
       "       [0.01267496],\n",
       "       [0.01700282],\n",
       "       [0.01251183],\n",
       "       [0.01314149],\n",
       "       [0.02106256],\n",
       "       [0.01254525],\n",
       "       [0.00338807],\n",
       "       [0.01095599],\n",
       "       [0.01050209],\n",
       "       [0.02163759],\n",
       "       [0.02104688],\n",
       "       [0.01578491],\n",
       "       [0.01018028],\n",
       "       [0.01463942],\n",
       "       [0.00561858],\n",
       "       [0.01999792],\n",
       "       [0.00558768],\n",
       "       [0.01665321],\n",
       "       [0.01289224],\n",
       "       [0.01650051],\n",
       "       [0.009513  ],\n",
       "       [0.00410042],\n",
       "       [0.01786151],\n",
       "       [0.0136641 ],\n",
       "       [0.01565582],\n",
       "       [0.00511927],\n",
       "       [0.02307083],\n",
       "       [0.01255721],\n",
       "       [0.00904409]])"
      ]
     },
     "metadata": {},
     "execution_count": 28
    }
   ],
   "source": [
    "ranks"
   ]
  },
  {
   "cell_type": "code",
   "execution_count": 29,
   "metadata": {},
   "outputs": [],
   "source": [
    "sortRankWithindexes = [item[0] for item in sorted(enumerate(ranks), key=lambda item: -item[1])]"
   ]
  },
  {
   "cell_type": "code",
   "execution_count": 30,
   "metadata": {},
   "outputs": [],
   "source": [
    "plt.figure(figsize=(20, 10))\n",
    "plt.bar([item[0] for item in sorted(enumerate(ranks))], ranks.T[0],color='olive',width=0.8)\n",
    "plt.ylabel(\"Page Rank / Importance\")\n",
    "plt.xlabel(\"Sentence No.\")\n",
    "plt.show()"
   ]
  },
  {
   "cell_type": "code",
   "execution_count": 31,
   "metadata": {},
   "outputs": [],
   "source": [
    "SummaryLines = 5"
   ]
  },
  {
   "cell_type": "code",
   "execution_count": 32,
   "metadata": {},
   "outputs": [],
   "source": [
    "selectedSentences = sorted(sortRankWithindexes[:SummaryLines])"
   ]
  },
  {
   "cell_type": "code",
   "execution_count": 33,
   "metadata": {},
   "outputs": [],
   "source": [
    "summary = itemgetter(*selectedSentences)(sentences)"
   ]
  },
  {
   "cell_type": "code",
   "execution_count": 34,
   "metadata": {},
   "outputs": [],
   "source": [
    "finalSummary=\"\"\n",
    "for sentence in summary:\n",
    "    finalSummary+=' '.join(sentence)"
   ]
  },
  {
   "cell_type": "code",
   "execution_count": 35,
   "metadata": {},
   "outputs": [
    {
     "output_type": "execute_result",
     "data": {
      "text/plain": [
       "\"Rhode Island is going to examine its Sunday sales law with possible revisions in mind .`` I would expect the proposed committee to hold public hearings '' , Mr. Notte said , `` to obtain the views of the general public and religious , labor and special-interest groups affected by these laws '' .`` That was before I studied law .Mr. Martinelli has , in recent weeks , been of the opinion that a special town meeting would be called for the vote , while Mr. Bourcier said that a special election might be called instead .Nothing has been done yet to take advantage of the enabling legislation .\""
      ]
     },
     "metadata": {},
     "execution_count": 35
    }
   ],
   "source": [
    "finalSummary"
   ]
  },
  {
   "cell_type": "code",
   "execution_count": null,
   "metadata": {},
   "outputs": [],
   "source": []
  }
 ]
}